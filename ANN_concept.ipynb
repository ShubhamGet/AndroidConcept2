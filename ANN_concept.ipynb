{
  "nbformat": 4,
  "nbformat_minor": 0,
  "metadata": {
    "colab": {
      "provenance": [],
      "gpuType": "T4",
      "mount_file_id": "1VZ9nZPHrXsu20lx23GOr_zi4W_mrOIWR",
      "authorship_tag": "ABX9TyOb682/SSuvnM043qFoOOcQ",
      "include_colab_link": true
    },
    "kernelspec": {
      "name": "python3",
      "display_name": "Python 3"
    },
    "language_info": {
      "name": "python"
    },
    "accelerator": "GPU"
  },
  "cells": [
    {
      "cell_type": "markdown",
      "metadata": {
        "id": "view-in-github",
        "colab_type": "text"
      },
      "source": [
        "<a href=\"https://colab.research.google.com/github/ShubhamGet/AndroidConcept2/blob/master/ANN_concept.ipynb\" target=\"_parent\"><img src=\"https://colab.research.google.com/assets/colab-badge.svg\" alt=\"Open In Colab\"/></a>"
      ]
    },
    {
      "cell_type": "code",
      "source": [
        "import tensorflow as tf\n",
        "tf.test.gpu_device_name()"
      ],
      "metadata": {
        "colab": {
          "base_uri": "https://localhost:8080/",
          "height": 37
        },
        "id": "P_ECsqW-o5yg",
        "outputId": "85899b9c-45ab-4800-a8bb-b62d5a478803"
      },
      "execution_count": 4,
      "outputs": [
        {
          "output_type": "execute_result",
          "data": {
            "text/plain": [
              "'/device:GPU:0'"
            ],
            "application/vnd.google.colaboratory.intrinsic+json": {
              "type": "string"
            }
          },
          "metadata": {},
          "execution_count": 4
        }
      ]
    },
    {
      "cell_type": "markdown",
      "source": [
        "Which GPU using"
      ],
      "metadata": {
        "id": "psPWKVZIpjOT"
      }
    },
    {
      "cell_type": "code",
      "source": [
        "from tensorflow.python.client import device_lib\n",
        "device_lib.list_local_devices()"
      ],
      "metadata": {
        "colab": {
          "base_uri": "https://localhost:8080/"
        },
        "id": "2-FWAKXXplh9",
        "outputId": "ab606b2a-5c00-4466-b7e7-9af60b5b35f8"
      },
      "execution_count": 5,
      "outputs": [
        {
          "output_type": "execute_result",
          "data": {
            "text/plain": [
              "[name: \"/device:CPU:0\"\n",
              " device_type: \"CPU\"\n",
              " memory_limit: 268435456\n",
              " locality {\n",
              " }\n",
              " incarnation: 11898311789965139899\n",
              " xla_global_id: -1,\n",
              " name: \"/device:GPU:0\"\n",
              " device_type: \"GPU\"\n",
              " memory_limit: 14626652160\n",
              " locality {\n",
              "   bus_id: 1\n",
              "   links {\n",
              "   }\n",
              " }\n",
              " incarnation: 1191304376492955799\n",
              " physical_device_desc: \"device: 0, name: Tesla T4, pci bus id: 0000:00:04.0, compute capability: 7.5\"\n",
              " xla_global_id: 416903419]"
            ]
          },
          "metadata": {},
          "execution_count": 5
        }
      ]
    },
    {
      "cell_type": "markdown",
      "source": [
        "Ram Information"
      ],
      "metadata": {
        "id": "Xayaq5SdqQJe"
      }
    },
    {
      "cell_type": "code",
      "source": [
        "!cat /proc/meminfo"
      ],
      "metadata": {
        "colab": {
          "base_uri": "https://localhost:8080/"
        },
        "id": "XLuHU294qSAV",
        "outputId": "6a37582a-8b7d-4fbe-d0d1-07b853447a34"
      },
      "execution_count": 6,
      "outputs": [
        {
          "output_type": "stream",
          "name": "stdout",
          "text": [
            "MemTotal:       13290480 kB\n",
            "MemFree:         7869344 kB\n",
            "MemAvailable:   11778880 kB\n",
            "Buffers:          346148 kB\n",
            "Cached:          3760408 kB\n",
            "SwapCached:            0 kB\n",
            "Active:           687668 kB\n",
            "Inactive:        4312624 kB\n",
            "Active(anon):       1276 kB\n",
            "Inactive(anon):   904760 kB\n",
            "Active(file):     686392 kB\n",
            "Inactive(file):  3407864 kB\n",
            "Unevictable:           4 kB\n",
            "Mlocked:               4 kB\n",
            "SwapTotal:             0 kB\n",
            "SwapFree:              0 kB\n",
            "Dirty:               432 kB\n",
            "Writeback:             0 kB\n",
            "AnonPages:        892780 kB\n",
            "Mapped:           726208 kB\n",
            "Shmem:             12296 kB\n",
            "KReclaimable:     112436 kB\n",
            "Slab:             159700 kB\n",
            "SReclaimable:     112436 kB\n",
            "SUnreclaim:        47264 kB\n",
            "KernelStack:        4656 kB\n",
            "PageTables:        15772 kB\n",
            "SecPageTables:         0 kB\n",
            "NFS_Unstable:          0 kB\n",
            "Bounce:                0 kB\n",
            "WritebackTmp:          0 kB\n",
            "CommitLimit:     6645240 kB\n",
            "Committed_AS:    2593372 kB\n",
            "VmallocTotal:   34359738367 kB\n",
            "VmallocUsed:       79028 kB\n",
            "VmallocChunk:          0 kB\n",
            "Percpu:             1088 kB\n",
            "HardwareCorrupted:     0 kB\n",
            "AnonHugePages:      2048 kB\n",
            "ShmemHugePages:        0 kB\n",
            "ShmemPmdMapped:        0 kB\n",
            "FileHugePages:         0 kB\n",
            "FilePmdMapped:         0 kB\n",
            "CmaTotal:              0 kB\n",
            "CmaFree:               0 kB\n",
            "Unaccepted:            0 kB\n",
            "HugePages_Total:       0\n",
            "HugePages_Free:        0\n",
            "HugePages_Rsvd:        0\n",
            "HugePages_Surp:        0\n",
            "Hugepagesize:       2048 kB\n",
            "Hugetlb:               0 kB\n",
            "DirectMap4k:      213816 kB\n",
            "DirectMap2M:     5025792 kB\n",
            "DirectMap1G:    10485760 kB\n"
          ]
        }
      ]
    },
    {
      "cell_type": "code",
      "source": [],
      "metadata": {
        "id": "UaedUA64qvwx"
      },
      "execution_count": null,
      "outputs": []
    },
    {
      "cell_type": "markdown",
      "source": [
        "Install -q keras"
      ],
      "metadata": {
        "id": "BLIAa7kottlE"
      }
    },
    {
      "cell_type": "code",
      "source": [
        "!pip install -q keras"
      ],
      "metadata": {
        "id": "sQZEAREitzAr"
      },
      "execution_count": 57,
      "outputs": []
    },
    {
      "cell_type": "code",
      "source": [
        "import pandas as pd"
      ],
      "metadata": {
        "id": "VJCTlJBPuZGa"
      },
      "execution_count": 58,
      "outputs": []
    },
    {
      "cell_type": "markdown",
      "source": [
        "# Part 1 Data preporcessing\n",
        "# Importing the library"
      ],
      "metadata": {
        "id": "uJj2sV8ZufTb"
      }
    },
    {
      "cell_type": "code",
      "source": [
        "import numpy as np\n",
        "import matplotlib.pyplot as plt\n",
        "import pandas as pd\n"
      ],
      "metadata": {
        "id": "nodWX0qDusBg"
      },
      "execution_count": 59,
      "outputs": []
    },
    {
      "cell_type": "code",
      "source": [
        "# Importing the dataset\n",
        "dataset = pd.read_csv('Churn_Modelling.csv')\n",
        "X = dataset.iloc[:, 3:13]\n",
        "y = dataset.iloc[:, 13]"
      ],
      "metadata": {
        "id": "iSQOmtaZvlFW"
      },
      "execution_count": 60,
      "outputs": []
    },
    {
      "cell_type": "code",
      "source": [
        "#Create dummy variables\n",
        "geography=pd.get_dummies(X[\"Geography\"],drop_first=True)\n",
        "gender=pd.get_dummies(X['Gender'],drop_first=True)"
      ],
      "metadata": {
        "id": "QykhwtuQwC7A"
      },
      "execution_count": 61,
      "outputs": []
    },
    {
      "cell_type": "code",
      "source": [
        "## Concatenate the Data Frames\n",
        "\n",
        "X=pd.concat([X,geography,gender],axis=1)\n"
      ],
      "metadata": {
        "id": "SHmx9oCWwF7C"
      },
      "execution_count": 62,
      "outputs": []
    },
    {
      "cell_type": "code",
      "source": [
        "## Drop Unnecessary columns\n",
        "X=X.drop(['Geography','Gender'],axis=1)\n"
      ],
      "metadata": {
        "id": "hOwgyo9tzMLC"
      },
      "execution_count": 63,
      "outputs": []
    },
    {
      "cell_type": "code",
      "source": [
        "# Splitting the dataset into the Training set and Test set\n",
        "from sklearn.model_selection import train_test_split\n",
        "X_train, X_test, y_train, y_test = train_test_split(X, y, test_size = 0.2, random_state = 0)"
      ],
      "metadata": {
        "id": "DIBwiDf3zPt9"
      },
      "execution_count": 64,
      "outputs": []
    },
    {
      "cell_type": "code",
      "source": [
        "# Feature Scaling\n",
        "from sklearn.preprocessing import StandardScaler\n",
        "sc = StandardScaler()\n",
        "X_train = sc.fit_transform(X_train)\n",
        "X_test = sc.transform(X_test)"
      ],
      "metadata": {
        "id": "6MrDpXb1zSoU"
      },
      "execution_count": 65,
      "outputs": []
    },
    {
      "cell_type": "code",
      "source": [
        "# Part 2 - Now let's make the ANN!\n",
        "\n",
        "# Importing the Keras libraries and packages\n",
        "import keras\n",
        "from keras.models import Sequential\n",
        "from keras.layers import Dense\n",
        "from keras.layers import LeakyReLU,PReLU,ELU\n",
        "from keras.layers import Dropout\n"
      ],
      "metadata": {
        "id": "wIxlmwto0BYE"
      },
      "execution_count": 66,
      "outputs": []
    },
    {
      "cell_type": "code",
      "source": [
        "# Initialising the ANN\n",
        "classifier = Sequential()"
      ],
      "metadata": {
        "id": "Ux7YmZkD0CnJ"
      },
      "execution_count": 67,
      "outputs": []
    },
    {
      "cell_type": "code",
      "source": [
        "# Adding the input layer and the first hidden layer\n",
        "classifier.add(Dense(units = 6, kernel_initializer = 'he_uniform',activation='relu',input_dim = 11))"
      ],
      "metadata": {
        "id": "sYFbKVX-0FEL"
      },
      "execution_count": 68,
      "outputs": []
    },
    {
      "cell_type": "code",
      "source": [
        "# Adding the second hidden layer\n",
        "classifier.add(Dense(units = 6, kernel_initializer = 'he_uniform',activation='relu'))"
      ],
      "metadata": {
        "id": "r5NHj3Cj0i31"
      },
      "execution_count": 69,
      "outputs": []
    },
    {
      "cell_type": "code",
      "source": [
        "# Adding the output layer\n",
        "classifier.add(Dense(units = 1, kernel_initializer = 'glorot_uniform', activation = 'sigmoid'))"
      ],
      "metadata": {
        "id": "L16zu-PX0wLO"
      },
      "execution_count": 70,
      "outputs": []
    },
    {
      "cell_type": "code",
      "source": [
        "# Compiling the ANN\n",
        "classifier.compile(optimizer = 'Adamax', loss = 'binary_crossentropy', metrics = ['accuracy'])"
      ],
      "metadata": {
        "id": "ollGESSu0-kC"
      },
      "execution_count": 71,
      "outputs": []
    },
    {
      "cell_type": "code",
      "source": [
        "# Fitting the ANN to the Training set\n",
        "model_history=classifier.fit(X_train, y_train,validation_split=0.33, batch_size = 10, epochs = 100)"
      ],
      "metadata": {
        "colab": {
          "base_uri": "https://localhost:8080/"
        },
        "id": "GxBU-tnp1Cc-",
        "outputId": "2c0cc417-3c55-4e4f-e0c1-bb6249bdb4f2"
      },
      "execution_count": 72,
      "outputs": [
        {
          "output_type": "stream",
          "name": "stdout",
          "text": [
            "Epoch 1/100\n",
            "536/536 [==============================] - 3s 5ms/step - loss: 0.6436 - accuracy: 0.6753 - val_loss: 0.5720 - val_accuracy: 0.7611\n",
            "Epoch 2/100\n",
            "536/536 [==============================] - 3s 5ms/step - loss: 0.5465 - accuracy: 0.7876 - val_loss: 0.5176 - val_accuracy: 0.7955\n",
            "Epoch 3/100\n",
            "536/536 [==============================] - 3s 5ms/step - loss: 0.5023 - accuracy: 0.7962 - val_loss: 0.4863 - val_accuracy: 0.7955\n",
            "Epoch 4/100\n",
            "536/536 [==============================] - 2s 4ms/step - loss: 0.4740 - accuracy: 0.7962 - val_loss: 0.4665 - val_accuracy: 0.7955\n",
            "Epoch 5/100\n",
            "536/536 [==============================] - 2s 4ms/step - loss: 0.4569 - accuracy: 0.7985 - val_loss: 0.4559 - val_accuracy: 0.7944\n",
            "Epoch 6/100\n",
            "536/536 [==============================] - 2s 4ms/step - loss: 0.4471 - accuracy: 0.8015 - val_loss: 0.4496 - val_accuracy: 0.7974\n",
            "Epoch 7/100\n",
            "536/536 [==============================] - 2s 4ms/step - loss: 0.4405 - accuracy: 0.8048 - val_loss: 0.4450 - val_accuracy: 0.8031\n",
            "Epoch 8/100\n",
            "536/536 [==============================] - 3s 6ms/step - loss: 0.4357 - accuracy: 0.8089 - val_loss: 0.4418 - val_accuracy: 0.8058\n",
            "Epoch 9/100\n",
            "536/536 [==============================] - 3s 5ms/step - loss: 0.4318 - accuracy: 0.8093 - val_loss: 0.4391 - val_accuracy: 0.8076\n",
            "Epoch 10/100\n",
            "536/536 [==============================] - 2s 4ms/step - loss: 0.4284 - accuracy: 0.8128 - val_loss: 0.4366 - val_accuracy: 0.8111\n",
            "Epoch 11/100\n",
            "536/536 [==============================] - 2s 4ms/step - loss: 0.4252 - accuracy: 0.8151 - val_loss: 0.4340 - val_accuracy: 0.8137\n",
            "Epoch 12/100\n",
            "536/536 [==============================] - 2s 4ms/step - loss: 0.4222 - accuracy: 0.8177 - val_loss: 0.4317 - val_accuracy: 0.8164\n",
            "Epoch 13/100\n",
            "536/536 [==============================] - 2s 4ms/step - loss: 0.4192 - accuracy: 0.8205 - val_loss: 0.4297 - val_accuracy: 0.8194\n",
            "Epoch 14/100\n",
            "536/536 [==============================] - 3s 6ms/step - loss: 0.4165 - accuracy: 0.8220 - val_loss: 0.4275 - val_accuracy: 0.8179\n",
            "Epoch 15/100\n",
            "536/536 [==============================] - 3s 5ms/step - loss: 0.4139 - accuracy: 0.8252 - val_loss: 0.4256 - val_accuracy: 0.8183\n",
            "Epoch 16/100\n",
            "536/536 [==============================] - 2s 4ms/step - loss: 0.4113 - accuracy: 0.8252 - val_loss: 0.4237 - val_accuracy: 0.8205\n",
            "Epoch 17/100\n",
            "536/536 [==============================] - 2s 4ms/step - loss: 0.4088 - accuracy: 0.8272 - val_loss: 0.4215 - val_accuracy: 0.8224\n",
            "Epoch 18/100\n",
            "536/536 [==============================] - 2s 4ms/step - loss: 0.4062 - accuracy: 0.8300 - val_loss: 0.4195 - val_accuracy: 0.8205\n",
            "Epoch 19/100\n",
            "536/536 [==============================] - 3s 6ms/step - loss: 0.4037 - accuracy: 0.8321 - val_loss: 0.4174 - val_accuracy: 0.8198\n",
            "Epoch 20/100\n",
            "536/536 [==============================] - 4s 7ms/step - loss: 0.4008 - accuracy: 0.8349 - val_loss: 0.4151 - val_accuracy: 0.8186\n",
            "Epoch 21/100\n",
            "536/536 [==============================] - 2s 4ms/step - loss: 0.3976 - accuracy: 0.8384 - val_loss: 0.4122 - val_accuracy: 0.8236\n",
            "Epoch 22/100\n",
            "536/536 [==============================] - 2s 5ms/step - loss: 0.3945 - accuracy: 0.8377 - val_loss: 0.4092 - val_accuracy: 0.8247\n",
            "Epoch 23/100\n",
            "536/536 [==============================] - 2s 4ms/step - loss: 0.3912 - accuracy: 0.8393 - val_loss: 0.4061 - val_accuracy: 0.8277\n",
            "Epoch 24/100\n",
            "536/536 [==============================] - 2s 4ms/step - loss: 0.3877 - accuracy: 0.8397 - val_loss: 0.4028 - val_accuracy: 0.8300\n",
            "Epoch 25/100\n",
            "536/536 [==============================] - 3s 6ms/step - loss: 0.3841 - accuracy: 0.8433 - val_loss: 0.3993 - val_accuracy: 0.8292\n",
            "Epoch 26/100\n",
            "536/536 [==============================] - 3s 5ms/step - loss: 0.3804 - accuracy: 0.8444 - val_loss: 0.3956 - val_accuracy: 0.8311\n",
            "Epoch 27/100\n",
            "536/536 [==============================] - 2s 5ms/step - loss: 0.3764 - accuracy: 0.8461 - val_loss: 0.3917 - val_accuracy: 0.8345\n",
            "Epoch 28/100\n",
            "536/536 [==============================] - 2s 5ms/step - loss: 0.3728 - accuracy: 0.8502 - val_loss: 0.3881 - val_accuracy: 0.8353\n",
            "Epoch 29/100\n",
            "536/536 [==============================] - 2s 4ms/step - loss: 0.3692 - accuracy: 0.8503 - val_loss: 0.3851 - val_accuracy: 0.8353\n",
            "Epoch 30/100\n",
            "536/536 [==============================] - 3s 6ms/step - loss: 0.3659 - accuracy: 0.8526 - val_loss: 0.3817 - val_accuracy: 0.8372\n",
            "Epoch 31/100\n",
            "536/536 [==============================] - 4s 7ms/step - loss: 0.3625 - accuracy: 0.8531 - val_loss: 0.3790 - val_accuracy: 0.8372\n",
            "Epoch 32/100\n",
            "536/536 [==============================] - 3s 6ms/step - loss: 0.3596 - accuracy: 0.8552 - val_loss: 0.3764 - val_accuracy: 0.8395\n",
            "Epoch 33/100\n",
            "536/536 [==============================] - 2s 4ms/step - loss: 0.3567 - accuracy: 0.8559 - val_loss: 0.3739 - val_accuracy: 0.8406\n",
            "Epoch 34/100\n",
            "536/536 [==============================] - 2s 4ms/step - loss: 0.3544 - accuracy: 0.8578 - val_loss: 0.3719 - val_accuracy: 0.8417\n",
            "Epoch 35/100\n",
            "536/536 [==============================] - 2s 4ms/step - loss: 0.3522 - accuracy: 0.8586 - val_loss: 0.3701 - val_accuracy: 0.8432\n",
            "Epoch 36/100\n",
            "536/536 [==============================] - 2s 4ms/step - loss: 0.3504 - accuracy: 0.8595 - val_loss: 0.3683 - val_accuracy: 0.8455\n",
            "Epoch 37/100\n",
            "536/536 [==============================] - 3s 6ms/step - loss: 0.3487 - accuracy: 0.8600 - val_loss: 0.3668 - val_accuracy: 0.8455\n",
            "Epoch 38/100\n",
            "536/536 [==============================] - 3s 6ms/step - loss: 0.3470 - accuracy: 0.8614 - val_loss: 0.3653 - val_accuracy: 0.8463\n",
            "Epoch 39/100\n",
            "536/536 [==============================] - 2s 4ms/step - loss: 0.3455 - accuracy: 0.8615 - val_loss: 0.3645 - val_accuracy: 0.8444\n",
            "Epoch 40/100\n",
            "536/536 [==============================] - 2s 4ms/step - loss: 0.3444 - accuracy: 0.8619 - val_loss: 0.3633 - val_accuracy: 0.8459\n",
            "Epoch 41/100\n",
            "536/536 [==============================] - 2s 4ms/step - loss: 0.3433 - accuracy: 0.8617 - val_loss: 0.3623 - val_accuracy: 0.8466\n",
            "Epoch 42/100\n",
            "536/536 [==============================] - 2s 4ms/step - loss: 0.3422 - accuracy: 0.8623 - val_loss: 0.3619 - val_accuracy: 0.8470\n",
            "Epoch 43/100\n",
            "536/536 [==============================] - 4s 7ms/step - loss: 0.3412 - accuracy: 0.8615 - val_loss: 0.3616 - val_accuracy: 0.8444\n",
            "Epoch 44/100\n",
            "536/536 [==============================] - 3s 5ms/step - loss: 0.3407 - accuracy: 0.8638 - val_loss: 0.3606 - val_accuracy: 0.8459\n",
            "Epoch 45/100\n",
            "536/536 [==============================] - 2s 4ms/step - loss: 0.3401 - accuracy: 0.8632 - val_loss: 0.3601 - val_accuracy: 0.8478\n",
            "Epoch 46/100\n",
            "536/536 [==============================] - 2s 4ms/step - loss: 0.3395 - accuracy: 0.8632 - val_loss: 0.3597 - val_accuracy: 0.8485\n",
            "Epoch 47/100\n",
            "536/536 [==============================] - 2s 4ms/step - loss: 0.3387 - accuracy: 0.8664 - val_loss: 0.3594 - val_accuracy: 0.8485\n",
            "Epoch 48/100\n",
            "536/536 [==============================] - 2s 5ms/step - loss: 0.3384 - accuracy: 0.8655 - val_loss: 0.3592 - val_accuracy: 0.8493\n",
            "Epoch 49/100\n",
            "536/536 [==============================] - 3s 6ms/step - loss: 0.3381 - accuracy: 0.8649 - val_loss: 0.3591 - val_accuracy: 0.8497\n",
            "Epoch 50/100\n",
            "536/536 [==============================] - 3s 5ms/step - loss: 0.3375 - accuracy: 0.8638 - val_loss: 0.3587 - val_accuracy: 0.8504\n",
            "Epoch 51/100\n",
            "536/536 [==============================] - 2s 4ms/step - loss: 0.3372 - accuracy: 0.8642 - val_loss: 0.3585 - val_accuracy: 0.8497\n",
            "Epoch 52/100\n",
            "536/536 [==============================] - 2s 4ms/step - loss: 0.3369 - accuracy: 0.8642 - val_loss: 0.3585 - val_accuracy: 0.8512\n",
            "Epoch 53/100\n",
            "536/536 [==============================] - 2s 4ms/step - loss: 0.3365 - accuracy: 0.8638 - val_loss: 0.3581 - val_accuracy: 0.8508\n",
            "Epoch 54/100\n",
            "536/536 [==============================] - 3s 6ms/step - loss: 0.3362 - accuracy: 0.8649 - val_loss: 0.3583 - val_accuracy: 0.8512\n",
            "Epoch 55/100\n",
            "536/536 [==============================] - 3s 6ms/step - loss: 0.3359 - accuracy: 0.8640 - val_loss: 0.3580 - val_accuracy: 0.8508\n",
            "Epoch 56/100\n",
            "536/536 [==============================] - 2s 4ms/step - loss: 0.3357 - accuracy: 0.8632 - val_loss: 0.3581 - val_accuracy: 0.8504\n",
            "Epoch 57/100\n",
            "536/536 [==============================] - 2s 4ms/step - loss: 0.3354 - accuracy: 0.8643 - val_loss: 0.3580 - val_accuracy: 0.8512\n",
            "Epoch 58/100\n",
            "536/536 [==============================] - 2s 5ms/step - loss: 0.3351 - accuracy: 0.8634 - val_loss: 0.3581 - val_accuracy: 0.8508\n",
            "Epoch 59/100\n",
            "536/536 [==============================] - 2s 4ms/step - loss: 0.3350 - accuracy: 0.8642 - val_loss: 0.3580 - val_accuracy: 0.8508\n",
            "Epoch 60/100\n",
            "536/536 [==============================] - 3s 6ms/step - loss: 0.3347 - accuracy: 0.8632 - val_loss: 0.3579 - val_accuracy: 0.8516\n",
            "Epoch 61/100\n",
            "536/536 [==============================] - 3s 6ms/step - loss: 0.3345 - accuracy: 0.8623 - val_loss: 0.3578 - val_accuracy: 0.8516\n",
            "Epoch 62/100\n",
            "536/536 [==============================] - 2s 4ms/step - loss: 0.3343 - accuracy: 0.8623 - val_loss: 0.3576 - val_accuracy: 0.8508\n",
            "Epoch 63/100\n",
            "536/536 [==============================] - 2s 4ms/step - loss: 0.3341 - accuracy: 0.8621 - val_loss: 0.3578 - val_accuracy: 0.8527\n",
            "Epoch 64/100\n",
            "536/536 [==============================] - 2s 4ms/step - loss: 0.3340 - accuracy: 0.8621 - val_loss: 0.3577 - val_accuracy: 0.8512\n",
            "Epoch 65/100\n",
            "536/536 [==============================] - 2s 4ms/step - loss: 0.3338 - accuracy: 0.8621 - val_loss: 0.3577 - val_accuracy: 0.8527\n",
            "Epoch 66/100\n",
            "536/536 [==============================] - 3s 6ms/step - loss: 0.3337 - accuracy: 0.8619 - val_loss: 0.3577 - val_accuracy: 0.8523\n",
            "Epoch 67/100\n",
            "536/536 [==============================] - 3s 5ms/step - loss: 0.3335 - accuracy: 0.8621 - val_loss: 0.3578 - val_accuracy: 0.8527\n",
            "Epoch 68/100\n",
            "536/536 [==============================] - 2s 4ms/step - loss: 0.3334 - accuracy: 0.8619 - val_loss: 0.3577 - val_accuracy: 0.8523\n",
            "Epoch 69/100\n",
            "536/536 [==============================] - 2s 4ms/step - loss: 0.3332 - accuracy: 0.8621 - val_loss: 0.3575 - val_accuracy: 0.8523\n",
            "Epoch 70/100\n",
            "536/536 [==============================] - 2s 4ms/step - loss: 0.3332 - accuracy: 0.8615 - val_loss: 0.3574 - val_accuracy: 0.8516\n",
            "Epoch 71/100\n",
            "536/536 [==============================] - 2s 5ms/step - loss: 0.3330 - accuracy: 0.8606 - val_loss: 0.3572 - val_accuracy: 0.8516\n",
            "Epoch 72/100\n",
            "536/536 [==============================] - 3s 6ms/step - loss: 0.3328 - accuracy: 0.8612 - val_loss: 0.3574 - val_accuracy: 0.8531\n",
            "Epoch 73/100\n",
            "536/536 [==============================] - 3s 5ms/step - loss: 0.3328 - accuracy: 0.8627 - val_loss: 0.3570 - val_accuracy: 0.8523\n",
            "Epoch 74/100\n",
            "536/536 [==============================] - 2s 4ms/step - loss: 0.3326 - accuracy: 0.8627 - val_loss: 0.3571 - val_accuracy: 0.8519\n",
            "Epoch 75/100\n",
            "536/536 [==============================] - 2s 4ms/step - loss: 0.3327 - accuracy: 0.8625 - val_loss: 0.3569 - val_accuracy: 0.8523\n",
            "Epoch 76/100\n",
            "536/536 [==============================] - 3s 5ms/step - loss: 0.3325 - accuracy: 0.8621 - val_loss: 0.3570 - val_accuracy: 0.8531\n",
            "Epoch 77/100\n",
            "536/536 [==============================] - 3s 6ms/step - loss: 0.3324 - accuracy: 0.8617 - val_loss: 0.3571 - val_accuracy: 0.8531\n",
            "Epoch 78/100\n",
            "536/536 [==============================] - 3s 6ms/step - loss: 0.3322 - accuracy: 0.8625 - val_loss: 0.3574 - val_accuracy: 0.8538\n",
            "Epoch 79/100\n",
            "536/536 [==============================] - 2s 4ms/step - loss: 0.3322 - accuracy: 0.8623 - val_loss: 0.3570 - val_accuracy: 0.8542\n",
            "Epoch 80/100\n",
            "536/536 [==============================] - 2s 4ms/step - loss: 0.3320 - accuracy: 0.8623 - val_loss: 0.3573 - val_accuracy: 0.8550\n",
            "Epoch 81/100\n",
            "536/536 [==============================] - 2s 4ms/step - loss: 0.3320 - accuracy: 0.8619 - val_loss: 0.3569 - val_accuracy: 0.8546\n",
            "Epoch 82/100\n",
            "536/536 [==============================] - 2s 4ms/step - loss: 0.3321 - accuracy: 0.8627 - val_loss: 0.3564 - val_accuracy: 0.8535\n",
            "Epoch 83/100\n",
            "536/536 [==============================] - 3s 6ms/step - loss: 0.3318 - accuracy: 0.8619 - val_loss: 0.3566 - val_accuracy: 0.8542\n",
            "Epoch 84/100\n",
            "536/536 [==============================] - 3s 5ms/step - loss: 0.3317 - accuracy: 0.8628 - val_loss: 0.3564 - val_accuracy: 0.8550\n",
            "Epoch 85/100\n",
            "536/536 [==============================] - 2s 4ms/step - loss: 0.3317 - accuracy: 0.8619 - val_loss: 0.3562 - val_accuracy: 0.8546\n",
            "Epoch 86/100\n",
            "536/536 [==============================] - 2s 4ms/step - loss: 0.3315 - accuracy: 0.8615 - val_loss: 0.3561 - val_accuracy: 0.8546\n",
            "Epoch 87/100\n",
            "536/536 [==============================] - 2s 5ms/step - loss: 0.3313 - accuracy: 0.8621 - val_loss: 0.3560 - val_accuracy: 0.8550\n",
            "Epoch 88/100\n",
            "536/536 [==============================] - 2s 4ms/step - loss: 0.3314 - accuracy: 0.8617 - val_loss: 0.3558 - val_accuracy: 0.8542\n",
            "Epoch 89/100\n",
            "536/536 [==============================] - 4s 7ms/step - loss: 0.3313 - accuracy: 0.8610 - val_loss: 0.3557 - val_accuracy: 0.8565\n",
            "Epoch 90/100\n",
            "536/536 [==============================] - 2s 4ms/step - loss: 0.3310 - accuracy: 0.8621 - val_loss: 0.3560 - val_accuracy: 0.8561\n",
            "Epoch 91/100\n",
            "536/536 [==============================] - 2s 4ms/step - loss: 0.3308 - accuracy: 0.8643 - val_loss: 0.3556 - val_accuracy: 0.8550\n",
            "Epoch 92/100\n",
            "536/536 [==============================] - 2s 4ms/step - loss: 0.3310 - accuracy: 0.8610 - val_loss: 0.3553 - val_accuracy: 0.8561\n",
            "Epoch 93/100\n",
            "536/536 [==============================] - 2s 4ms/step - loss: 0.3309 - accuracy: 0.8621 - val_loss: 0.3552 - val_accuracy: 0.8573\n",
            "Epoch 94/100\n",
            "536/536 [==============================] - 3s 5ms/step - loss: 0.3307 - accuracy: 0.8615 - val_loss: 0.3550 - val_accuracy: 0.8573\n",
            "Epoch 95/100\n",
            "536/536 [==============================] - 3s 6ms/step - loss: 0.3307 - accuracy: 0.8610 - val_loss: 0.3549 - val_accuracy: 0.8573\n",
            "Epoch 96/100\n",
            "536/536 [==============================] - 2s 4ms/step - loss: 0.3306 - accuracy: 0.8623 - val_loss: 0.3551 - val_accuracy: 0.8580\n",
            "Epoch 97/100\n",
            "536/536 [==============================] - 2s 4ms/step - loss: 0.3306 - accuracy: 0.8617 - val_loss: 0.3547 - val_accuracy: 0.8580\n",
            "Epoch 98/100\n",
            "536/536 [==============================] - 2s 4ms/step - loss: 0.3304 - accuracy: 0.8617 - val_loss: 0.3545 - val_accuracy: 0.8557\n",
            "Epoch 99/100\n",
            "536/536 [==============================] - 2s 4ms/step - loss: 0.3303 - accuracy: 0.8627 - val_loss: 0.3548 - val_accuracy: 0.8573\n",
            "Epoch 100/100\n",
            "536/536 [==============================] - 3s 5ms/step - loss: 0.3303 - accuracy: 0.8619 - val_loss: 0.3547 - val_accuracy: 0.8580\n"
          ]
        }
      ]
    },
    {
      "cell_type": "code",
      "source": [
        "# list all data in history\n",
        "\n",
        "print(model_history.history.keys())\n",
        "# summarize history for accuracy\n",
        "plt.plot(model_history.history['accuracy'])\n",
        "plt.plot(model_history.history['val_accuracy'])\n",
        "plt.title('model accuracy')\n",
        "plt.ylabel('accuracy')\n",
        "plt.xlabel('epoch')\n",
        "plt.legend(['train', 'test'], loc='upper left')\n",
        "plt.show()"
      ],
      "metadata": {
        "colab": {
          "base_uri": "https://localhost:8080/",
          "height": 489
        },
        "id": "Wx7Zef-Q3Bwd",
        "outputId": "5b6efa71-3430-48c0-ca3e-2a39f1fa60da"
      },
      "execution_count": 52,
      "outputs": [
        {
          "output_type": "stream",
          "name": "stdout",
          "text": [
            "dict_keys(['loss', 'accuracy', 'val_loss', 'val_accuracy'])\n"
          ]
        },
        {
          "output_type": "display_data",
          "data": {
            "text/plain": [
              "<Figure size 640x480 with 1 Axes>"
            ],
            "image/png": "[encoded data removed]"
          },
          "metadata": {}
        }
      ]
    },
    {
      "cell_type": "code",
      "source": [
        "# summarize history for loss\n",
        "plt.plot(model_history.history['loss'])\n",
        "plt.plot(model_history.history['val_loss'])\n",
        "plt.title('model loss')\n",
        "plt.ylabel('loss')\n",
        "plt.xlabel('epoch')\n",
        "plt.legend(['train', 'test'], loc='upper left')\n",
        "plt.show()"
      ],
      "metadata": {
        "colab": {
          "base_uri": "https://localhost:8080/",
          "height": 472
        },
        "id": "noSVP5vk3ZML",
        "outputId": "412372a4-bd31-4876-b9e9-331d6f96b8e1"
      },
      "execution_count": 53,
      "outputs": [
        {
          "output_type": "display_data",
          "data": {
            "text/plain": [
              "<Figure size 640x480 with 1 Axes>"
            ],
            "image/png": "[encoded data removed]"
          },
          "metadata": {}
        }
      ]
    },
    {
      "cell_type": "code",
      "source": [
        "# Part 3 - Making the predictions and evaluating the model\n",
        "\n",
        "# Predicting the Test set results\n",
        "y_pred = classifier.predict(X_test)\n",
        "y_pred = (y_pred > 0.5)"
      ],
      "metadata": {
        "colab": {
          "base_uri": "https://localhost:8080/"
        },
        "id": "8qN_RDoe2bGH",
        "outputId": "63bdc2db-7d54-4e90-9d66-b43d5477e475"
      },
      "execution_count": 54,
      "outputs": [
        {
          "output_type": "stream",
          "name": "stdout",
          "text": [
            "63/63 [==============================] - 0s 2ms/step\n"
          ]
        }
      ]
    },
    {
      "cell_type": "code",
      "source": [
        "# Making the Confusion Matrix\n",
        "from sklearn.metrics import confusion_matrix\n",
        "cm = confusion_matrix(y_test, y_pred)"
      ],
      "metadata": {
        "id": "jY8LjqfE2eSQ"
      },
      "execution_count": 55,
      "outputs": []
    },
    {
      "cell_type": "code",
      "source": [
        "# Calculate the Accuracy\n",
        "from sklearn.metrics import accuracy_score\n",
        "score=accuracy_score(y_pred,y_test)"
      ],
      "metadata": {
        "id": "lYIPtxfT2jOb"
      },
      "execution_count": 56,
      "outputs": []
    }
  ]
}